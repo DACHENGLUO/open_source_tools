{
 "cells": [
  {
   "cell_type": "markdown",
   "metadata": {},
   "source": [
    "### 1 Week3: Classwork"
   ]
  },
  {
   "cell_type": "markdown",
   "metadata": {},
   "source": [
    "#### 1.1 Question:"
   ]
  },
  {
   "cell_type": "code",
   "execution_count": 4,
   "metadata": {},
   "outputs": [
    {
     "name": "stdout",
     "output_type": "stream",
     "text": [
      "            1            \n",
      "           1 1           \n",
      "          1 2 1          \n",
      "         1 3 3 1         \n",
      "        1 4 6 4 1        \n",
      "      1 5 10 10 5 1      \n",
      "    1 6 15 20 15 6 1     \n"
     ]
    }
   ],
   "source": [
    "def triangles():\n",
    "    L = [1]\n",
    "    while True:\n",
    "        yield L\n",
    "        L = [sum(i) for i in zip([0]+L, L+[0])]\n",
    "a = triangles()\n",
    "# for i in range(7):\n",
    "# ss = \" \"\n",
    "# for d in next(a):\n",
    "# ss = ss + str(d) + \" \"\n",
    "# print(\"{0:^20}\".format(ss))\n",
    "for i in range(7):\n",
    "    ss = \" \".join([str(d) for d in next(a)])\n",
    "    print(\"{0:^25}\".format(ss))"
   ]
  },
  {
   "cell_type": "code",
   "execution_count": 5,
   "metadata": {},
   "outputs": [
    {
     "name": "stdout",
     "output_type": "stream",
     "text": [
      "[[1], [1, 1], [1, 2, 1], [1, 3, 3, 1], [1, 4, 6, 4, 1], [1, 5, 10, 10, 5, 1], [1, 6, 15, 20, 15, 6, 1], [1, 7, 21, 35, 35, 21, 7, 1]]\n",
      "            1            \n",
      "           1_1           \n",
      "          1_2_1          \n",
      "         1_3_3_1         \n",
      "        1_4_6_4_1        \n",
      "      1_5_10_10_5_1      \n",
      "    1_6_15_20_15_6_1     \n",
      "   1_7_21_35_35_21_7_1   \n"
     ]
    }
   ],
   "source": [
    "def triangles(n):\n",
    "    L = []\n",
    "    r = [0, 1, 0]\n",
    "    L.append(r[1:-1])\n",
    "    for i in range(n):\n",
    "        r = [x+y for x, y in zip(r[1:], r[:-1])]\n",
    "        L.append(r)\n",
    "        r = [0] + r + [0]\n",
    "    return L\n",
    "L = triangles(7)\n",
    "print(L)\n",
    "for li in L:\n",
    "    ss = \"_\".join([str(s) for s in li])\n",
    "    print(\"{0:^25}\".format(ss))"
   ]
  },
  {
   "cell_type": "markdown",
   "metadata": {},
   "source": [
    "#### 1.2 Question:\n",
    "* Find the Eigenvalues for the matrix: M\n",
    "* Take a try for its Singular Value Decomposition(SVD)"
   ]
  },
  {
   "cell_type": "code",
   "execution_count": 6,
   "metadata": {},
   "outputs": [
    {
     "data": {
      "text/plain": [
       "matrix([[8, 1, 6],\n",
       "        [3, 5, 7],\n",
       "        [4, 9, 2]])"
      ]
     },
     "execution_count": 6,
     "metadata": {},
     "output_type": "execute_result"
    }
   ],
   "source": [
    "## Define the Matrix\n",
    "import numpy as np\n",
    "M = np.mat([[8, 1, 6], [3, 5, 7], [4, 9, 2]])\n",
    "M\n"
   ]
  },
  {
   "cell_type": "code",
   "execution_count": 8,
   "metadata": {},
   "outputs": [
    {
     "name": "stdout",
     "output_type": "stream",
     "text": [
      "Determinant: -359.9999999999997\n",
      "Inverse Matrix:\n",
      " [[ 0.14722222 -0.14444444  0.06388889]\n",
      " [-0.06111111  0.02222222  0.10555556]\n",
      " [-0.01944444  0.18888889 -0.10277778]]\n"
     ]
    }
   ],
   "source": [
    "## Calculate Inverse Matrix\n",
    "print('Determinant:', np.linalg.det(M))\n",
    "try:\n",
    "    print('Inverse Matrix:\\n', np.linalg.inv(M))\n",
    "except:\n",
    "    print('Inverse Matrix is not exist!')"
   ]
  },
  {
   "cell_type": "code",
   "execution_count": 10,
   "metadata": {},
   "outputs": [
    {
     "name": "stdout",
     "output_type": "stream",
     "text": [
      "(3,) (3, 3)\n"
     ]
    },
    {
     "data": {
      "text/plain": [
       "array([15.        ,  4.89897949, -4.89897949])"
      ]
     },
     "execution_count": 10,
     "metadata": {},
     "output_type": "execute_result"
    }
   ],
   "source": [
    "## Calculate Eigenvalues\n",
    "Evals, Evecs = np.linalg.eig(M)\n",
    "print(Evals.shape, Evecs.shape)\n",
    "Evals"
   ]
  },
  {
   "cell_type": "code",
   "execution_count": 11,
   "metadata": {},
   "outputs": [
    {
     "name": "stdout",
     "output_type": "stream",
     "text": [
      "(3, 3) (3,) (3, 3)\n"
     ]
    },
    {
     "data": {
      "text/plain": [
       "array([15.        ,  6.92820323,  3.46410162])"
      ]
     },
     "execution_count": 11,
     "metadata": {},
     "output_type": "execute_result"
    }
   ],
   "source": [
    "## Calculate Singular Values\n",
    "u, s, vh = np.linalg.svd(M, full_matrices=True)\n",
    "print(u.shape, s.shape, vh.shape)\n",
    "s\n"
   ]
  },
  {
   "cell_type": "code",
   "execution_count": 12,
   "metadata": {},
   "outputs": [
    {
     "data": {
      "text/plain": [
       "(3, 3)"
      ]
     },
     "execution_count": 12,
     "metadata": {},
     "output_type": "execute_result"
    }
   ],
   "source": [
    " ## M^T * M\n",
    "MTM = M.T * M\n",
    "MTM.shape\n"
   ]
  },
  {
   "cell_type": "code",
   "execution_count": 13,
   "metadata": {},
   "outputs": [
    {
     "name": "stdout",
     "output_type": "stream",
     "text": [
      "(3,) (3, 3)\n"
     ]
    },
    {
     "data": {
      "text/plain": [
       "array([225.,  12.,  48.])"
      ]
     },
     "execution_count": 13,
     "metadata": {},
     "output_type": "execute_result"
    }
   ],
   "source": [
    "## Eigenvalue of M^T M\n",
    "Evals, Evecs = np.linalg.eig(MTM)\n",
    "print(Evals.shape, Evecs.shape)\n",
    "Evals\n"
   ]
  },
  {
   "cell_type": "code",
   "execution_count": 16,
   "metadata": {},
   "outputs": [
    {
     "data": {
      "text/plain": [
       "array([225.,  48.,  12.])"
      ]
     },
     "execution_count": 16,
     "metadata": {},
     "output_type": "execute_result"
    }
   ],
   "source": [
    "s**2\n"
   ]
  },
  {
   "cell_type": "code",
   "execution_count": null,
   "metadata": {},
   "outputs": [],
   "source": []
  }
 ],
 "metadata": {
  "kernelspec": {
   "display_name": "Python 3",
   "language": "python",
   "name": "python3"
  },
  "language_info": {
   "codemirror_mode": {
    "name": "ipython",
    "version": 3
   },
   "file_extension": ".py",
   "mimetype": "text/x-python",
   "name": "python",
   "nbconvert_exporter": "python",
   "pygments_lexer": "ipython3",
   "version": "3.7.7"
  }
 },
 "nbformat": 4,
 "nbformat_minor": 4
}
