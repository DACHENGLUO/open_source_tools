{
 "cells": [
  {
   "cell_type": "markdown",
   "metadata": {},
   "source": [
    "#### 1.1 Vector in Numpy"
   ]
  },
  {
   "cell_type": "code",
   "execution_count": 2,
   "metadata": {},
   "outputs": [
    {
     "name": "stdout",
     "output_type": "stream",
     "text": [
      "[1 2 3 4]\n",
      "(4,)\n",
      "(4,)\n",
      "Broadcasting:  [2 3 4 5]\n",
      "Sum:  2.5\n",
      "Vectorization:  [ 1  4  9 16] [2 4 6 8]\n"
     ]
    }
   ],
   "source": [
    "import numpy as np\n",
    "vec = np.array([1,2,3,4])\n",
    "print(vec)\n",
    "print(np.shape(vec))\n",
    "print(vec.shape)\n",
    "print('Broadcasting: ', vec + 1)\n",
    "print('Sum: ', vec.mean())\n",
    "print('Vectorization: ', vec**2, vec + vec)"
   ]
  },
  {
   "cell_type": "markdown",
   "metadata": {},
   "source": [
    "#### 1.2 Matrix in Numpy"
   ]
  },
  {
   "cell_type": "code",
   "execution_count": 4,
   "metadata": {},
   "outputs": [
    {
     "name": "stdout",
     "output_type": "stream",
     "text": [
      "[[0. 0. 0. 0. 0.]\n",
      " [0. 0. 0. 0. 0.]\n",
      " [0. 0. 0. 0. 0.]]\n",
      "[[1. 1. 1. 1. 1.]\n",
      " [1. 1. 1. 1. 1.]\n",
      " [1. 1. 1. 1. 1.]]\n",
      "[[0.18519967 0.30146141 0.39151566 0.96227218 0.59243653]\n",
      " [0.22369706 0.89593926 0.22197262 0.16977882 0.28754185]\n",
      " [0.11599498 0.14221509 0.8522005  0.33289584 0.0820925 ]]\n",
      "[[1. 0. 0. 0. 0.]\n",
      " [0. 1. 0. 0. 0.]\n",
      " [0. 0. 1. 0. 0.]]\n",
      "Matrix Stack: Horizontal\n",
      " [[0. 0. 0. 0. 0. 1. 1. 1. 1. 1.]\n",
      " [0. 0. 0. 0. 0. 1. 1. 1. 1. 1.]\n",
      " [0. 0. 0. 0. 0. 1. 1. 1. 1. 1.]]\n",
      "Matrix Stack: Verticle\n",
      " [[0. 0. 0. 0. 0.]\n",
      " [0. 0. 0. 0. 0.]\n",
      " [0. 0. 0. 0. 0.]\n",
      " [1. 1. 1. 1. 1.]\n",
      " [1. 1. 1. 1. 1.]\n",
      " [1. 1. 1. 1. 1.]]\n"
     ]
    }
   ],
   "source": [
    "## Matrix Generation\n",
    "myZero = np.zeros([3,5]) # generate a 3*5 zero matrix\n",
    "print(myZero)\n",
    "myOnes = np.ones([3,5]) # generate a 3*5 ones matrix\n",
    "print(myOnes)\n",
    "myRand = np.random.rand(3,5) # generate a 3*5 matrix with the number in (0~1)\n",
    "print(myRand)\n",
    "myEyes = np.eye(3,5) # generate a 3*5 identity matrix, np.eye(3) will get a square matrix\n",
    "print(myEyes)\n",
    "print('Matrix Stack: Horizontal\\n', np.hstack((myZero, myOnes)))\n",
    "print('Matrix Stack: Verticle\\n', np.vstack((myZero, myOnes)))\n"
   ]
  },
  {
   "cell_type": "code",
   "execution_count": 5,
   "metadata": {},
   "outputs": [
    {
     "data": {
      "text/plain": [
       "array([[1., 0., 0.],\n",
       "       [0., 1., 0.],\n",
       "       [0., 0., 1.]])"
      ]
     },
     "execution_count": 5,
     "metadata": {},
     "output_type": "execute_result"
    }
   ],
   "source": [
    "np.identity(3)"
   ]
  },
  {
   "cell_type": "code",
   "execution_count": 6,
   "metadata": {},
   "outputs": [
    {
     "name": "stdout",
     "output_type": "stream",
     "text": [
      "myOnes:\n",
      " [[1. 1. 1. 1. 1.]\n",
      " [1. 1. 1. 1. 1.]\n",
      " [1. 1. 1. 1. 1.]]\n",
      "myEyes:\n",
      " [[1. 0. 0. 0. 0.]\n",
      " [0. 1. 0. 0. 0.]\n",
      " [0. 0. 1. 0. 0.]]\n",
      "1.0 1.0\n",
      "Sum of Matrix:myOnes+myEyes\n",
      " [[2. 1. 1. 1. 1.]\n",
      " [1. 2. 1. 1. 1.]\n",
      " [1. 1. 2. 1. 1.]]\n",
      "Sum of elements: np.sum(myOnes)\n",
      " 15.0\n",
      "Sum of each columns: sum(myOnes)\n",
      " [3. 3. 3. 3. 3.]\n",
      "Matrix:\n",
      " [[1 2 3]\n",
      " [2 3 1]\n",
      " [1 0 0]]\n",
      "Scalar Matrix Multiplication:\n",
      " [[10 20 30]\n",
      " [20 30 10]\n",
      " [10  0  0]]\n",
      "Matrix Multiplication:\n",
      " [[ 8  8  5]\n",
      " [ 9 13  9]\n",
      " [ 1  2  3]]\n",
      "Matrix Elements Multiplication: np.multiply\n",
      " [[1 4 9]\n",
      " [4 9 1]\n",
      " [1 0 0]]\n",
      "Matrix Elements Power: np.power\n",
      " [[1 4 9]\n",
      " [4 9 1]\n",
      " [1 0 0]]\n"
     ]
    }
   ],
   "source": [
    "## Matrix Operations\n",
    "myOnes = np.ones([3,5])\n",
    "myEyes = np.eye(3,5)\n",
    "print('myOnes:\\n', myOnes)\n",
    "print('myEyes:\\n', myEyes)\n",
    "## Visit elements:\n",
    "print(myEyes[1,1], myEyes[1][1])\n",
    "###### Matrix Sum\n",
    "print('Sum of Matrix:myOnes+myEyes\\n', myOnes + myEyes)\n",
    "###### sum of all elements of Matrix\n",
    "print('Sum of elements: np.sum(myOnes)\\n', np.sum(myOnes)) ## NOTICE: np.sum is to sum all elements; while sum is to sum each column\n",
    "print('Sum of each columns: sum(myOnes)\\n', sum(myOnes))\n",
    "## Matrix Multiplication\n",
    "NewMat = np.mat([[1,2,3], [2, 3, 1],[1,0,0]])\n",
    "print('Matrix:\\n',NewMat)\n",
    "print('Scalar Matrix Multiplication:\\n', 10*NewMat)\n",
    "print('Matrix Multiplication:\\n', NewMat*NewMat)\n",
    "print('Matrix Elements Multiplication: np.multiply\\n', np.multiply(NewMat, NewMat))\n",
    "print('Matrix Elements Power: np.power\\n', np.power(NewMat, 2))\n"
   ]
  },
  {
   "cell_type": "code",
   "execution_count": 7,
   "metadata": {},
   "outputs": [
    {
     "data": {
      "text/plain": [
       "matrix([[1, 2, 3],\n",
       "        [2, 3, 1],\n",
       "        [1, 0, 0]])"
      ]
     },
     "execution_count": 7,
     "metadata": {},
     "output_type": "execute_result"
    }
   ],
   "source": [
    "NewMat\n"
   ]
  },
  {
   "cell_type": "code",
   "execution_count": 8,
   "metadata": {},
   "outputs": [],
   "source": [
    "NewMat[0,0] = 5"
   ]
  },
  {
   "cell_type": "code",
   "execution_count": 9,
   "metadata": {},
   "outputs": [
    {
     "data": {
      "text/plain": [
       "matrix([[5, 2, 3],\n",
       "        [2, 3, 1],\n",
       "        [1, 0, 0]])"
      ]
     },
     "execution_count": 9,
     "metadata": {},
     "output_type": "execute_result"
    }
   ],
   "source": [
    "NewMat"
   ]
  },
  {
   "cell_type": "code",
   "execution_count": 10,
   "metadata": {},
   "outputs": [
    {
     "name": "stdout",
     "output_type": "stream",
     "text": [
      "Matrix: \n",
      " [[1 2 3]\n",
      " [4 5 6]\n",
      " [7 8 9]]\n",
      "Matrix Transpose:\n",
      " [[1 4 7]\n",
      " [2 5 8]\n",
      " [3 6 9]]\n",
      "Matrix after .T: \n",
      " [[1 2 3]\n",
      " [4 5 6]\n",
      " [7 8 9]]\n",
      "Matrix Transpose:\n",
      " [[1 4 7]\n",
      " [2 5 8]\n",
      " [3 6 9]]\n",
      "Matrix after Transpose():\n",
      " [[1 2 3]\n",
      " [4 5 6]\n",
      " [7 8 9]]\n"
     ]
    }
   ],
   "source": [
    "## Matrix Transpose\n",
    "NewMat = np.mat([[1,2,3],[4,5,6],[7,8,9]])\n",
    "print('Matrix: \\n',NewMat)\n",
    "print('Matrix Transpose:\\n',NewMat.T)\n",
    "print('Matrix after .T: \\n', NewMat)\n",
    "print('Matrix Transpose:\\n', NewMat.transpose()) ## same as the .T\n",
    "print('Matrix after Transpose():\\n', NewMat)\n"
   ]
  },
  {
   "cell_type": "code",
   "execution_count": 11,
   "metadata": {},
   "outputs": [
    {
     "name": "stdout",
     "output_type": "stream",
     "text": [
      "Matrix:\n",
      " [[ 1  2  3]\n",
      " [ 4  5  6]\n",
      " [ 7  8  9]\n",
      " [10  1  1]]\n",
      "Row and Columns: 4 3\n",
      "First Row: [[1 2 3]]\n",
      "First Column: [[ 1  4  7 10]]\n",
      "Matrix Elements:  8\n",
      "Matrix Rows:\n",
      " [[1 2 3]\n",
      " [4 5 6]]\n",
      "Matrix Colmuns:\n",
      " [[2 3]\n",
      " [5 6]\n",
      " [8 9]\n",
      " [1 1]]\n",
      "[[False False False]\n",
      " [False False False]\n",
      " [False False False]\n",
      " [False False False]]\n",
      "New Shape: \n",
      " [[ 1  2  3  4  5  6]\n",
      " [ 7  8  9 10  1  1]]\n"
     ]
    }
   ],
   "source": [
    "## Matrix Shape, Copy, slice, split...\n",
    "NewMat = np.mat([[1,2,3],[4, 5, 6],[7, 8, 9 ],[10,1,1]])\n",
    "[m,n] = np.shape(NewMat)\n",
    "print('Matrix:\\n',NewMat)\n",
    "print('Row and Columns:', m,n)\n",
    "print('First Row:', NewMat[0]) # same as: NewMat[0,](Bad) and NewMat[0,:]\n",
    "print('First Column:', NewMat.T[0])\n",
    "print('Matrix Elements: ', NewMat[2,1]) ## Notice: first number is 0!!!!\n",
    "print('Matrix Rows:\\n', NewMat[[0,1],:]) ## first two rows\n",
    "print('Matrix Colmuns:\\n', NewMat[:,[1,2]])\n",
    "# copy a matrix to other variable\n",
    "NewMat2 = NewMat.copy()\n",
    "# compare two matrix by elements\n",
    "print(NewMat<NewMat2)\n",
    "print('New Shape: \\n', NewMat.reshape((2,6)))"
   ]
  },
  {
   "cell_type": "markdown",
   "metadata": {},
   "source": [
    "#### 1.3 Linear Algebra\n",
    "* Determinant\n",
    "* Matrix Inverse\n",
    "* Matrix Rank\n",
    "* Solving Linear System\n",
    "* Eigen Values"
   ]
  },
  {
   "cell_type": "code",
   "execution_count": 13,
   "metadata": {},
   "outputs": [
    {
     "name": "stdout",
     "output_type": "stream",
     "text": [
      "matrix:\n",
      " [[1 2 3]\n",
      " [4 5 6]\n",
      " [1 0 0]]\n",
      "Determinant: -3.0000000000000004\n",
      "Inverse Matrix:\n",
      " [[ 0.          0.          1.        ]\n",
      " [-2.          1.         -2.        ]\n",
      " [ 1.66666667 -0.66666667  1.        ]]\n",
      "check: inv(A)*A\n",
      " [[ 1.00000000e+00  0.00000000e+00  0.00000000e+00]\n",
      " [ 4.44089210e-16  1.00000000e+00  0.00000000e+00]\n",
      " [-2.22044605e-16  0.00000000e+00  1.00000000e+00]]\n",
      "Rank:\n",
      " 3\n",
      "Solve Linear System:\n",
      " [ 1.         -2.          1.33333333]\n",
      "Check by: inv(A)*b\n",
      " [[ 1.        ]\n",
      " [-2.        ]\n",
      " [ 1.33333333]]\n",
      "Eigen values: \n",
      " [ 6.81573612 -1.1866583   0.37092218]\n",
      "Eigen Vectors:\n",
      " [[-0.3482453  -0.75825177  0.19151266]\n",
      " [-0.93600993 -0.12945231 -0.8347106 ]\n",
      " [-0.05109431  0.63898072  0.51631494]]\n",
      "AX , lambda*X:\n",
      " [[-2.37354807]\n",
      " [-6.37959666]\n",
      " [-0.3482453 ]] [[-2.37354807]\n",
      " [-6.37959666]\n",
      " [-0.3482453 ]]\n",
      "sigma,\n",
      "  [[ 6.81573612 -0.          0.        ]\n",
      " [ 0.         -1.1866583   0.        ]\n",
      " [ 0.         -0.          0.37092218]]\n",
      "V*sigma*V^-1 = A:\n",
      " [[1.00000000e+00 2.00000000e+00 3.00000000e+00]\n",
      " [4.00000000e+00 5.00000000e+00 6.00000000e+00]\n",
      " [1.00000000e+00 2.20839833e-16 2.05274360e-16]]\n"
     ]
    }
   ],
   "source": [
    "## Linear Algebra\n",
    "NewMat = np.mat([[1,2,3],[4,5,6],[1,0,0]])\n",
    "print(\"matrix:\\n\",NewMat)\n",
    "print('Determinant:', np.linalg.det(NewMat))\n",
    "print('Inverse Matrix:\\n', np.linalg.inv(NewMat))\n",
    "print('check: inv(A)*A\\n', np.linalg.inv(NewMat)*NewMat)\n",
    "print('Rank:\\n', np.linalg.matrix_rank(NewMat))\n",
    "b = [1,2,1]\n",
    "print('Solve Linear System:\\n', np.linalg.solve(NewMat, b))\n",
    "b2 = [1,2,1]\n",
    "b2T = np.mat(b2).T\n",
    "print('Check by: inv(A)*b\\n', np.linalg.inv(NewMat)*b2T)\n",
    "# Eigen values\n",
    "Evals, Evecs = np.linalg.eig(NewMat)\n",
    "print('Eigen values: \\n', Evals)\n",
    "print('Eigen Vectors:\\n', Evecs) #NOTICE: eigenvectors are stored in columns\n",
    "print('AX , lambda*X:\\n', NewMat*Evecs[:,0], Evals[0]*Evecs[:,0])\n",
    "# use similarity matrix\n",
    "sigma = Evals * np.eye(3)\n",
    "print('sigma,\\n ',sigma)\n",
    "print('V*sigma*V^-1 = A:\\n', Evecs*sigma*np.linalg.inv(Evecs))"
   ]
  },
  {
   "cell_type": "markdown",
   "metadata": {},
   "source": [
    "#### 1.4 Generate Random Number"
   ]
  },
  {
   "cell_type": "code",
   "execution_count": 14,
   "metadata": {},
   "outputs": [
    {
     "name": "stdout",
     "output_type": "stream",
     "text": [
      "0.6964691855978616\n",
      "3\n"
     ]
    }
   ],
   "source": [
    "## Generate a random float number\n",
    "import numpy as np\n",
    "np.random.seed(123) ## if set seed(123), the random number will be fixed!!!\n",
    "print(np.random.rand())\n",
    "print(np.random.randint(1,7))\n"
   ]
  },
  {
   "cell_type": "code",
   "execution_count": null,
   "metadata": {},
   "outputs": [],
   "source": []
  }
 ],
 "metadata": {
  "kernelspec": {
   "display_name": "Python 3",
   "language": "python",
   "name": "python3"
  },
  "language_info": {
   "codemirror_mode": {
    "name": "ipython",
    "version": 3
   },
   "file_extension": ".py",
   "mimetype": "text/x-python",
   "name": "python",
   "nbconvert_exporter": "python",
   "pygments_lexer": "ipython3",
   "version": "3.7.7"
  }
 },
 "nbformat": 4,
 "nbformat_minor": 4
}
