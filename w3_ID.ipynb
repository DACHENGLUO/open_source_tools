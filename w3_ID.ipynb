{
 "cells": [
  {
   "cell_type": "markdown",
   "metadata": {},
   "source": [
    "#### 1.1 Read in data from TXT file"
   ]
  },
  {
   "cell_type": "code",
   "execution_count": 1,
   "metadata": {},
   "outputs": [
    {
     "name": "stdout",
     "output_type": "stream",
     "text": [
      "Call me Ishmael. Some years ago--never mind how long precisely--having\n",
      "    little or no money in my purse, and nothing particular to interest me on\n",
      "    shore, I thought I would sail about a little and see the watery part of\n",
      "    the world. It is a way I have of driving off the spleen and regulating\n",
      "    the circulation. Whenever I find myself growing grim about the mouth;\n",
      "    whenever it is a damp, drizzly November in my soul;\n",
      "\n"
     ]
    }
   ],
   "source": [
    "FileName = 'cars.txt'\n",
    "fid = open(FileName, 'r');\n",
    "print(fid.read())\n",
    "fid.close()\n"
   ]
  },
  {
   "cell_type": "markdown",
   "metadata": {},
   "source": [
    "#### 1.2 Read file using iter"
   ]
  },
  {
   "cell_type": "code",
   "execution_count": 3,
   "metadata": {},
   "outputs": [
    {
     "name": "stdout",
     "output_type": "stream",
     "text": [
      "Call me Ishmael. Some years ago--never mind how long precisely--having\n",
      "    little or no money in my purse, and nothing particular to interest me on\n",
      "--------------------------------------------------\n",
      "    shore, I thought I would sail about a little and see the watery part of\n",
      "    the world. It is a way I have of driving off the spleen and regulating\n",
      "    the circulation. Whenever I find myself growing grim about the mouth;\n",
      "    whenever it is a damp, drizzly November in my soul;\n"
     ]
    }
   ],
   "source": [
    "FileName = 'cars.txt'\n",
    "fid = open(FileName, 'r');\n",
    "get_line = iter(fid)\n",
    "print(next(get_line), end=\"\")\n",
    "print(next(get_line), end=\"\")\n",
    "print('-'*50)\n",
    "for line in iter(fid):\n",
    "    print(line, end=\"\")"
   ]
  },
  {
   "cell_type": "markdown",
   "metadata": {},
   "source": [
    "#### 1.2.1 with open(filename, ’r’) as fid:\n"
   ]
  },
  {
   "cell_type": "code",
   "execution_count": 4,
   "metadata": {},
   "outputs": [
    {
     "name": "stdout",
     "output_type": "stream",
     "text": [
      "Call me Ishmael. Some years ago--never mind how long precisely--having\n",
      "\n",
      "    little or no money in my purse, and nothing particular to interest me on\n",
      "\n"
     ]
    }
   ],
   "source": [
    "with open(FileName, 'r') as fid:\n",
    "    print(fid.readline())\n",
    "    print(fid.readline())"
   ]
  },
  {
   "cell_type": "markdown",
   "metadata": {},
   "source": [
    "#### 1.3 Numpy for reading csv file\n"
   ]
  },
  {
   "cell_type": "code",
   "execution_count": 5,
   "metadata": {},
   "outputs": [
    {
     "name": "stdout",
     "output_type": "stream",
     "text": [
      "<class 'numpy.ndarray'>\n"
     ]
    },
    {
     "data": {
      "image/png": "[encoded data removed]",
      "text/plain": [
       "<Figure size 432x288 with 1 Axes>"
      ]
     },
     "metadata": {
      "needs_background": "light"
     },
     "output_type": "display_data"
    }
   ],
   "source": [
    "import numpy as np\n",
    "import matplotlib.pyplot as plt\n",
    "file = 'digits.csv'\n",
    "digits = np.loadtxt(file, delimiter=',')\n",
    "print(type(digits))\n",
    "# Select and reshape a row\n",
    "im = digits[25, 1:]\n",
    "im_sq = np.reshape(im, (28, 28))\n",
    "# Plot reshaped data (matplotlib.pyplot already loaded as plt)\n",
    "plt.imshow(im_sq, cmap='Greys', interpolation='nearest')\n",
    "plt.show()\n"
   ]
  },
  {
   "cell_type": "code",
   "execution_count": 6,
   "metadata": {},
   "outputs": [
    {
     "name": "stdout",
     "output_type": "stream",
     "text": [
      "(100, 785)\n"
     ]
    },
    {
     "data": {
      "image/png": "[encoded data removed]",
      "text/plain": [
       "<Figure size 432x288 with 1 Axes>"
      ]
     },
     "metadata": {
      "needs_background": "light"
     },
     "output_type": "display_data"
    }
   ],
   "source": [
    "Matrix = np.mat(digits)\n",
    "print(np.shape(Matrix))\n",
    "plt.imshow(Matrix, cmap='Greys', interpolation='nearest')\n",
    "plt.show()"
   ]
  },
  {
   "cell_type": "code",
   "execution_count": null,
   "metadata": {},
   "outputs": [],
   "source": []
  }
 ],
 "metadata": {
  "kernelspec": {
   "display_name": "Python 3",
   "language": "python",
   "name": "python3"
  },
  "language_info": {
   "codemirror_mode": {
    "name": "ipython",
    "version": 3
   },
   "file_extension": ".py",
   "mimetype": "text/x-python",
   "name": "python",
   "nbconvert_exporter": "python",
   "pygments_lexer": "ipython3",
   "version": "3.7.7"
  }
 },
 "nbformat": 4,
 "nbformat_minor": 4
}
